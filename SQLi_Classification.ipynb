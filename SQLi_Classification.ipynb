{
 "cells": [
  {
   "cell_type": "markdown",
   "id": "40e43535-5b14-42b0-99ac-9d425ca2c519",
   "metadata": {},
   "source": [
    "## Data Preprocessing"
   ]
  },
  {
   "cell_type": "code",
   "execution_count": 1,
   "id": "ada26827-511a-433b-a10b-081b88fe0d8b",
   "metadata": {},
   "outputs": [],
   "source": [
    "import pandas as pd"
   ]
  },
  {
   "cell_type": "code",
   "execution_count": 4,
   "id": "2def14f7-7e88-4976-bece-ae6cba80619d",
   "metadata": {},
   "outputs": [
    {
     "data": {
      "text/html": [
       "<div>\n",
       "<style scoped>\n",
       "    .dataframe tbody tr th:only-of-type {\n",
       "        vertical-align: middle;\n",
       "    }\n",
       "\n",
       "    .dataframe tbody tr th {\n",
       "        vertical-align: top;\n",
       "    }\n",
       "\n",
       "    .dataframe thead th {\n",
       "        text-align: right;\n",
       "    }\n",
       "</style>\n",
       "<table border=\"1\" class=\"dataframe\">\n",
       "  <thead>\n",
       "    <tr style=\"text-align: right;\">\n",
       "      <th></th>\n",
       "      <th>Sentence</th>\n",
       "      <th>Label</th>\n",
       "    </tr>\n",
       "  </thead>\n",
       "  <tbody>\n",
       "    <tr>\n",
       "      <th>5988</th>\n",
       "      <td>select count  (  *  )   from all_users t1,all_...</td>\n",
       "      <td>1</td>\n",
       "    </tr>\n",
       "    <tr>\n",
       "      <th>20209</th>\n",
       "      <td>SELECT TIME ( \"2017-08-15 19:30:10.000001\" ) ;</td>\n",
       "      <td>0</td>\n",
       "    </tr>\n",
       "    <tr>\n",
       "      <th>15780</th>\n",
       "      <td>ja34ico</td>\n",
       "      <td>0</td>\n",
       "    </tr>\n",
       "    <tr>\n",
       "      <th>25655</th>\n",
       "      <td>SELECT * FROM something WHERE characteristic B...</td>\n",
       "      <td>0</td>\n",
       "    </tr>\n",
       "    <tr>\n",
       "      <th>24311</th>\n",
       "      <td>SELECT Count ( * )  AS movement</td>\n",
       "      <td>0</td>\n",
       "    </tr>\n",
       "    <tr>\n",
       "      <th>4581</th>\n",
       "      <td>select count  (  *  )   from generate_series  ...</td>\n",
       "      <td>1</td>\n",
       "    </tr>\n",
       "    <tr>\n",
       "      <th>24067</th>\n",
       "      <td>SELECT COUNT ( officer ) FROM suddenly</td>\n",
       "      <td>0</td>\n",
       "    </tr>\n",
       "    <tr>\n",
       "      <th>26963</th>\n",
       "      <td>SELECT how</td>\n",
       "      <td>0</td>\n",
       "    </tr>\n",
       "    <tr>\n",
       "      <th>25769</th>\n",
       "      <td>SELECT excitement ( s )  FROM lamp FULL OUTER ...</td>\n",
       "      <td>0</td>\n",
       "    </tr>\n",
       "    <tr>\n",
       "      <th>27831</th>\n",
       "      <td>SELECT apart ( s )  FROM plant LEFT JOIN</td>\n",
       "      <td>0</td>\n",
       "    </tr>\n",
       "  </tbody>\n",
       "</table>\n",
       "</div>"
      ],
      "text/plain": [
       "                                                Sentence Label\n",
       "5988   select count  (  *  )   from all_users t1,all_...     1\n",
       "20209     SELECT TIME ( \"2017-08-15 19:30:10.000001\" ) ;     0\n",
       "15780                                            ja34ico     0\n",
       "25655  SELECT * FROM something WHERE characteristic B...     0\n",
       "24311                    SELECT Count ( * )  AS movement     0\n",
       "4581   select count  (  *  )   from generate_series  ...     1\n",
       "24067             SELECT COUNT ( officer ) FROM suddenly     0\n",
       "26963                                         SELECT how     0\n",
       "25769  SELECT excitement ( s )  FROM lamp FULL OUTER ...     0\n",
       "27831           SELECT apart ( s )  FROM plant LEFT JOIN     0"
      ]
     },
     "execution_count": 4,
     "metadata": {},
     "output_type": "execute_result"
    }
   ],
   "source": [
    "data = pd.read_csv('SQLiV-3.csv',encoding='utf-8')\n",
    "data.iloc[:,0:2].sample(10)"
   ]
  },
  {
   "cell_type": "code",
   "execution_count": 5,
   "id": "12f31061-77a4-43df-b5d9-c4fbbfd0afe0",
   "metadata": {},
   "outputs": [
    {
     "data": {
      "text/plain": [
       "30919"
      ]
     },
     "execution_count": 5,
     "metadata": {},
     "output_type": "execute_result"
    }
   ],
   "source": [
    "len(data)"
   ]
  },
  {
   "cell_type": "code",
   "execution_count": 6,
   "id": "6f5f0ee7-6284-4aef-9f28-f10e800506d0",
   "metadata": {},
   "outputs": [],
   "source": [
    "data = data.dropna(subset = ['Sentence','Label'])"
   ]
  },
  {
   "cell_type": "code",
   "execution_count": 7,
   "id": "bc0e20d3-92de-4a5f-8821-69ed28748546",
   "metadata": {},
   "outputs": [],
   "source": [
    "data = data.reset_index()"
   ]
  },
  {
   "cell_type": "code",
   "execution_count": 8,
   "id": "708b330a-2dc9-4292-80c5-a895bfaf28f9",
   "metadata": {},
   "outputs": [
    {
     "data": {
      "text/plain": [
       "30649"
      ]
     },
     "execution_count": 8,
     "metadata": {},
     "output_type": "execute_result"
    }
   ],
   "source": [
    "len(data)"
   ]
  },
  {
   "cell_type": "code",
   "execution_count": 9,
   "id": "66479645-1019-499a-b82d-08cf9a63fc3f",
   "metadata": {},
   "outputs": [
    {
     "data": {
      "text/plain": [
       "array(['1', 'SELECT *', ' --', ' desc users', ' OR',\n",
       "       \"waitfor delay '0:0:__TIME__'--\", ' drop table temp --', '0',\n",
       "       ' grant resource to name', ' EXEC SelectAllCustomers',\n",
       "       ' /*Select all the columns of all the records in the Customers table:*/',\n",
       "       '*/', ' CREATE VIEW [Products Above Average Price] AS',\n",
       "       ' CREATE OR REPLACE VIEW view_name AS', ' DROP TABLE Suppliers',\n",
       "       ' CREATE PROCEDURE SelectAllCustomers AS',\n",
       "       '  EXEC SelectAllCustomers',\n",
       "       \" DELETE FROM Customers  WHERE CustomerName = 'Alfreds Futterkiste'\",\n",
       "       ' CREATE OR REPLACE VIEW [Brazil Customers] AS',\n",
       "       '  SELECT * FROM CustomersLIMIT 3', 'SELECT * FROM Customers',\n",
       "       ' SELECT TOP 50 PERCENT * FROM Customers',\n",
       "       ' SELECT * FROM CustomersFETCH FIRST 50 PERCENT ROWS ONLY',\n",
       "       'SELECT TOP 3 * FROM Customers', ' SELECT * FROM Customers',\n",
       "       'SELECT SUM ( Quantity ) ', ' SELECT column_name ( s ) ',\n",
       "       ' SELECT City FROM Customers'], dtype=object)"
      ]
     },
     "execution_count": 9,
     "metadata": {},
     "output_type": "execute_result"
    }
   ],
   "source": [
    "data['Label'].unique()"
   ]
  },
  {
   "cell_type": "code",
   "execution_count": 10,
   "id": "6fe7645e-a07c-4aa3-a7aa-c2c91b02a2b2",
   "metadata": {},
   "outputs": [],
   "source": [
    "Labels = [1 for x in range(len(data['Label']))]\n",
    "for i in range(len(data['Label'])):\n",
    "    try:\n",
    "        Labels[i] = int(data['Label'][i])\n",
    "    except:\n",
    "        pass"
   ]
  },
  {
   "cell_type": "code",
   "execution_count": 11,
   "id": "b0830cf7-32fc-4496-a137-b5adad85e602",
   "metadata": {},
   "outputs": [],
   "source": [
    "X = data['Sentence']\n",
    "y = Labels"
   ]
  },
  {
   "cell_type": "code",
   "execution_count": 12,
   "id": "f2a9b3b1-c842-4fed-948b-077387d1ba3a",
   "metadata": {},
   "outputs": [
    {
     "name": "stdout",
     "output_type": "stream",
     "text": [
      "30648\r"
     ]
    }
   ],
   "source": [
    "corpus = []\n",
    "for i in range(0, len(X)):\n",
    "    print(i,end = '\\r')\n",
    "    query = str(X[i])\n",
    "    query = query.lower()\n",
    "    corpus.append(query)"
   ]
  },
  {
   "cell_type": "markdown",
   "id": "f35e298d-5632-4561-ba8a-1ee3fe77866d",
   "metadata": {},
   "source": [
    "## Model Creation"
   ]
  },
  {
   "cell_type": "code",
   "execution_count": 13,
   "id": "c4d47631-157f-4ed7-a39d-79b67949a388",
   "metadata": {},
   "outputs": [],
   "source": [
    "import tensorflow as tf\n",
    "from tensorflow.keras.layers import Embedding\n",
    "from tensorflow.keras.preprocessing.sequence import pad_sequences\n",
    "from tensorflow.keras.models import Sequential\n",
    "from tensorflow.keras.preprocessing.text import one_hot\n",
    "from tensorflow.keras.layers import LSTM\n",
    "from tensorflow.keras.layers import Dense\n",
    "from tensorflow.keras.layers import Dropout\n",
    "import numpy as np\n",
    "from sklearn.model_selection import train_test_split"
   ]
  },
  {
   "cell_type": "code",
   "execution_count": 14,
   "id": "fd0b97f9-6c69-4ef0-b140-84c1cae99d9a",
   "metadata": {},
   "outputs": [],
   "source": [
    "def create_model(embedding_vector_features, sent_length):\n",
    "    model=Sequential()\n",
    "    model.add(Embedding(voc_size,embedding_vector_features,input_length=sent_length))\n",
    "    model.add(Dropout(0.5))\n",
    "    model.add(LSTM(100,return_sequences = True))\n",
    "    model.add(Dropout(0.5))\n",
    "    model.add(LSTM(256))\n",
    "    model.add(Dropout(0.5))\n",
    "    model.add(Dense(1,activation='sigmoid'))\n",
    "    model.compile(loss='binary_crossentropy',optimizer='adam',metrics=['accuracy'])\n",
    "    return model"
   ]
  },
  {
   "cell_type": "markdown",
   "id": "e5d08048-30f2-442b-9f1a-e57afb86ea53",
   "metadata": {},
   "source": [
    "## Feature Extraction"
   ]
  },
  {
   "cell_type": "code",
   "execution_count": 15,
   "id": "c5b0fd66-2c9c-4d68-bd8a-2b760f296233",
   "metadata": {},
   "outputs": [],
   "source": [
    "voc_size = 20000\n",
    "embedding_vector_features=64"
   ]
  },
  {
   "cell_type": "code",
   "execution_count": 16,
   "id": "c13acd75-b227-4426-9840-91f974b04d3a",
   "metadata": {},
   "outputs": [],
   "source": [
    "onehot_repr=[one_hot(word,voc_size)for word in corpus]"
   ]
  },
  {
   "cell_type": "code",
   "execution_count": 17,
   "id": "db67680e-64e0-4366-852a-a902ab80908e",
   "metadata": {},
   "outputs": [
    {
     "name": "stdout",
     "output_type": "stream",
     "text": [
      "[[    0     0     0 ...  6814   307   695]\n",
      " [ 1742 11066 11647 ... 15698 16140  7131]\n",
      " [    0     0     0 ... 14733 12004  7541]\n",
      " ...\n",
      " [    0     0     0 ... 16209 10588  2933]\n",
      " [    0     0     0 ...  8316 10588  8869]\n",
      " [    0     0     0 ...  8895 10588 16692]]\n"
     ]
    }
   ],
   "source": [
    "sent_length=25\n",
    "embedded_docs=pad_sequences(onehot_repr,padding='pre',maxlen=sent_length)\n",
    "print(embedded_docs)"
   ]
  },
  {
   "cell_type": "code",
   "execution_count": 16,
   "id": "43eb124c-3c70-44d6-af80-2832c5e18b98",
   "metadata": {},
   "outputs": [
    {
     "data": {
      "text/plain": [
       "30649"
      ]
     },
     "execution_count": 16,
     "metadata": {},
     "output_type": "execute_result"
    }
   ],
   "source": [
    "len(embedded_docs)"
   ]
  },
  {
   "cell_type": "code",
   "execution_count": 17,
   "id": "8ed404e2-79eb-4905-a3c7-092fbbe97619",
   "metadata": {},
   "outputs": [],
   "source": [
    "X_final=np.array(embedded_docs)\n",
    "y_final=np.array(y)"
   ]
  },
  {
   "cell_type": "code",
   "execution_count": 18,
   "id": "988583b6-3c48-4308-8656-e080ef28c0d1",
   "metadata": {},
   "outputs": [
    {
     "data": {
      "text/plain": [
       "((30649, 25), (30649,))"
      ]
     },
     "execution_count": 18,
     "metadata": {},
     "output_type": "execute_result"
    }
   ],
   "source": [
    "X_final.shape,y_final.shape"
   ]
  },
  {
   "cell_type": "markdown",
   "id": "9fc38eae-2ee5-44ba-b325-ae79f99980c3",
   "metadata": {},
   "source": [
    "## Spiltting data"
   ]
  },
  {
   "cell_type": "code",
   "execution_count": 19,
   "id": "ab022356-efa8-4a23-90f3-ce9e67394e65",
   "metadata": {},
   "outputs": [],
   "source": [
    "X_train, X_test, y_train, y_test = train_test_split(X_final, y_final, test_size=0.25, random_state=42)"
   ]
  },
  {
   "cell_type": "code",
   "execution_count": 20,
   "id": "af4e66d2-0c75-49d5-aff0-3b2514c8547a",
   "metadata": {},
   "outputs": [],
   "source": [
    "X_train,X_val,y_train,y_val = train_test_split(X_train, y_train, test_size=0.2, random_state=42)"
   ]
  },
  {
   "cell_type": "code",
   "execution_count": 21,
   "id": "6da7cc0b-516f-47a7-9b02-58db5830ec9d",
   "metadata": {},
   "outputs": [],
   "source": [
    "model = create_model(embedding_vector_features, sent_length)"
   ]
  },
  {
   "cell_type": "code",
   "execution_count": 22,
   "id": "7b2f9c3c-3634-46f9-821f-4c7d9dd05893",
   "metadata": {},
   "outputs": [
    {
     "name": "stdout",
     "output_type": "stream",
     "text": [
      "Model: \"sequential\"\n",
      "_________________________________________________________________\n",
      " Layer (type)                Output Shape              Param #   \n",
      "=================================================================\n",
      " embedding (Embedding)       (None, 25, 64)            1280000   \n",
      "                                                                 \n",
      " dropout (Dropout)           (None, 25, 64)            0         \n",
      "                                                                 \n",
      " lstm (LSTM)                 (None, 25, 100)           66000     \n",
      "                                                                 \n",
      " dropout_1 (Dropout)         (None, 25, 100)           0         \n",
      "                                                                 \n",
      " lstm_1 (LSTM)               (None, 256)               365568    \n",
      "                                                                 \n",
      " dropout_2 (Dropout)         (None, 256)               0         \n",
      "                                                                 \n",
      " dense (Dense)               (None, 1)                 257       \n",
      "                                                                 \n",
      "=================================================================\n",
      "Total params: 1,711,825\n",
      "Trainable params: 1,711,825\n",
      "Non-trainable params: 0\n",
      "_________________________________________________________________\n"
     ]
    }
   ],
   "source": [
    "model.summary()"
   ]
  },
  {
   "cell_type": "markdown",
   "id": "a413b53f-7e89-4453-be29-4d73c83fea0e",
   "metadata": {},
   "source": [
    "## Training"
   ]
  },
  {
   "cell_type": "code",
   "execution_count": 23,
   "id": "d309ce1d-ebb5-4cf1-9180-29a2866c1eaa",
   "metadata": {},
   "outputs": [
    {
     "name": "stdout",
     "output_type": "stream",
     "text": [
      "Epoch 1/10\n",
      "19/19 [==============================] - 31s 153ms/step - loss: 0.5681 - accuracy: 0.7014 - val_loss: 0.3842 - val_accuracy: 0.8536\n",
      "Epoch 2/10\n",
      "19/19 [==============================] - 1s 62ms/step - loss: 0.2243 - accuracy: 0.9131 - val_loss: 0.0906 - val_accuracy: 0.9793\n",
      "Epoch 3/10\n",
      "19/19 [==============================] - 1s 61ms/step - loss: 0.0657 - accuracy: 0.9828 - val_loss: 0.0554 - val_accuracy: 0.9856\n",
      "Epoch 4/10\n",
      "19/19 [==============================] - 1s 60ms/step - loss: 0.0420 - accuracy: 0.9897 - val_loss: 0.0434 - val_accuracy: 0.9891\n",
      "Epoch 5/10\n",
      "19/19 [==============================] - 1s 60ms/step - loss: 0.0340 - accuracy: 0.9920 - val_loss: 0.0392 - val_accuracy: 0.9909\n",
      "Epoch 6/10\n",
      "19/19 [==============================] - 1s 60ms/step - loss: 0.0322 - accuracy: 0.9928 - val_loss: 0.0417 - val_accuracy: 0.9920\n",
      "Epoch 7/10\n",
      "19/19 [==============================] - 1s 60ms/step - loss: 0.0278 - accuracy: 0.9935 - val_loss: 0.0418 - val_accuracy: 0.9915\n",
      "Epoch 8/10\n",
      "19/19 [==============================] - 1s 60ms/step - loss: 0.0266 - accuracy: 0.9940 - val_loss: 0.0438 - val_accuracy: 0.9913\n",
      "Epoch 9/10\n",
      "19/19 [==============================] - 1s 60ms/step - loss: 0.0250 - accuracy: 0.9945 - val_loss: 0.0449 - val_accuracy: 0.9909\n",
      "Epoch 10/10\n",
      "19/19 [==============================] - 1s 61ms/step - loss: 0.0222 - accuracy: 0.9947 - val_loss: 0.0467 - val_accuracy: 0.9909\n"
     ]
    }
   ],
   "source": [
    "model_history = model.fit(X_train,y_train,validation_data=(X_val,y_val),epochs=10,batch_size=1000)"
   ]
  },
  {
   "cell_type": "markdown",
   "id": "55be6572-b096-40ab-8407-3cbdd4679f87",
   "metadata": {},
   "source": [
    "## Performance Testing"
   ]
  },
  {
   "cell_type": "code",
   "execution_count": 26,
   "id": "aa22981e-5e44-4f0a-adee-86aea917b9f0",
   "metadata": {},
   "outputs": [],
   "source": [
    "from sklearn.metrics import confusion_matrix\n",
    "from sklearn.metrics import ConfusionMatrixDisplay\n",
    "import matplotlib.pyplot as plt\n",
    "from sklearn.metrics import accuracy_score\n",
    "from sklearn.metrics import roc_curve, roc_auc_score"
   ]
  },
  {
   "cell_type": "code",
   "execution_count": 27,
   "id": "1258b176-48b2-41ae-bdbd-63dfa34a2994",
   "metadata": {},
   "outputs": [
    {
     "name": "stdout",
     "output_type": "stream",
     "text": [
      "240/240 [==============================] - 2s 7ms/step\n"
     ]
    }
   ],
   "source": [
    "y_pred=model.predict(X_test)"
   ]
  },
  {
   "cell_type": "markdown",
   "id": "9ca3ec93-2b64-4a0d-9097-a72956de03a2",
   "metadata": {},
   "source": [
    "### ACCURACY and LOSS curve"
   ]
  },
  {
   "cell_type": "code",
   "execution_count": 28,
   "id": "7b734b12-4e87-4cf5-961c-695e16c60024",
   "metadata": {},
   "outputs": [
    {
     "name": "stdout",
     "output_type": "stream",
     "text": [
      "dict_keys(['loss', 'accuracy', 'val_loss', 'val_accuracy'])\n"
     ]
    }
   ],
   "source": [
    "print(model_history.history.keys())"
   ]
  },
  {
   "cell_type": "code",
   "execution_count": 29,
   "id": "c8508daa-2933-4fb2-9d11-f15a9a5e07f1",
   "metadata": {},
   "outputs": [
    {
     "data": {
      "image/png": "[encoded data removed]",
      "text/plain": [
       "<Figure size 640x480 with 1 Axes>"
      ]
     },
     "metadata": {},
     "output_type": "display_data"
    }
   ],
   "source": [
    "plt.plot(model_history.history['accuracy'])\n",
    "plt.plot(model_history.history['val_accuracy'])\n",
    "plt.title('Model accuracy')\n",
    "plt.ylabel('accuracy')\n",
    "plt.xlabel('epoch')\n",
    "plt.legend(['train','val'],loc='upper left')\n",
    "plt.show()"
   ]
  },
  {
   "cell_type": "code",
   "execution_count": 30,
   "id": "c2094abf-6a39-480a-99b7-813e46fba5eb",
   "metadata": {},
   "outputs": [
    {
     "data": {
      "image/png": "[encoded data removed]",
      "text/plain": [
       "<Figure size 640x480 with 1 Axes>"
      ]
     },
     "metadata": {},
     "output_type": "display_data"
    }
   ],
   "source": [
    "plt.plot(model_history.history['loss'])\n",
    "plt.plot(model_history.history['val_loss'])\n",
    "plt.title('Model loss')\n",
    "plt.ylabel('loss')\n",
    "plt.xlabel('epoch')\n",
    "plt.legend(['train','val'],loc='upper left')\n",
    "plt.show()"
   ]
  },
  {
   "cell_type": "markdown",
   "id": "9cafbedb-6ac6-42ad-ae79-6ccc25c629ba",
   "metadata": {
    "tags": []
   },
   "source": [
    "### ROC Curve"
   ]
  },
  {
   "cell_type": "code",
   "execution_count": 31,
   "id": "61666427-7e46-4e7e-9db2-80cadb872d0f",
   "metadata": {},
   "outputs": [],
   "source": [
    "false_positive_rate, true_positive_rate, threshold = roc_curve(y_test, y_pred)"
   ]
  },
  {
   "cell_type": "code",
   "execution_count": 32,
   "id": "68b75998-8364-44a0-80a3-ee7eeb6d617b",
   "metadata": {},
   "outputs": [
    {
     "data": {
      "image/png": "[encoded data removed]",
      "text/plain": [
       "<Figure size 500x500 with 1 Axes>"
      ]
     },
     "metadata": {},
     "output_type": "display_data"
    }
   ],
   "source": [
    "plt.subplots(1, figsize=(5,5))\n",
    "plt.title('Receiver Operating Characteristic')\n",
    "plt.plot(false_positive_rate, true_positive_rate)\n",
    "plt.plot([0, 1], ls=\"--\")\n",
    "plt.plot([0, 0], [1, 0] , c=\".7\"), plt.plot([1, 1] , c=\".7\")\n",
    "plt.ylabel('True Positive Rate')\n",
    "plt.xlabel('False Positive Rate')\n",
    "plt.show()"
   ]
  },
  {
   "cell_type": "code",
   "execution_count": 33,
   "id": "1d9f6962-f29a-4f9f-bab1-f88dabd276f1",
   "metadata": {},
   "outputs": [
    {
     "name": "stdout",
     "output_type": "stream",
     "text": [
      "roc_auc_score:  0.9936989503775084\n"
     ]
    }
   ],
   "source": [
    "print('roc_auc_score: ', roc_auc_score(y_test, y_pred))"
   ]
  },
  {
   "cell_type": "markdown",
   "id": "8e267c34-ca4f-432d-bd9d-f5ec086b4ea6",
   "metadata": {},
   "source": [
    "### Predicting Values"
   ]
  },
  {
   "cell_type": "code",
   "execution_count": 34,
   "id": "93dee64b-1258-4238-bca8-8131d27d03e7",
   "metadata": {},
   "outputs": [],
   "source": [
    "y_ = [1 if x>0.9 else 0 for x in y_pred]"
   ]
  },
  {
   "cell_type": "markdown",
   "id": "5ffe03e2-b3e2-49e5-a9e0-7c33f8a2da60",
   "metadata": {},
   "source": [
    "### Confusion Matrix"
   ]
  },
  {
   "cell_type": "code",
   "execution_count": 35,
   "id": "b5bb5261-fa1f-4b96-a0f1-2f5f45845d96",
   "metadata": {},
   "outputs": [
    {
     "data": {
      "text/plain": [
       "array([[4805,    3],\n",
       "       [  86, 2769]], dtype=int64)"
      ]
     },
     "execution_count": 35,
     "metadata": {},
     "output_type": "execute_result"
    }
   ],
   "source": [
    "cm = confusion_matrix(y_test,y_)\n",
    "cm"
   ]
  },
  {
   "cell_type": "code",
   "execution_count": 36,
   "id": "9c66ee0c-c967-4eb4-8452-66439aa86824",
   "metadata": {
    "tags": []
   },
   "outputs": [
    {
     "data": {
      "image/png": "[encoded data removed]",
      "text/plain": [
       "<Figure size 640x480 with 2 Axes>"
      ]
     },
     "metadata": {},
     "output_type": "display_data"
    }
   ],
   "source": [
    "cm_display = ConfusionMatrixDisplay(confusion_matrix = cm, display_labels = [False, True])\n",
    "cm_display.plot()\n",
    "plt.show()"
   ]
  },
  {
   "cell_type": "code",
   "execution_count": 37,
   "id": "40c1d362-b0a0-45c4-a5f0-0a47b235cbed",
   "metadata": {},
   "outputs": [
    {
     "data": {
      "text/plain": [
       "0.9883857497063813"
      ]
     },
     "execution_count": 37,
     "metadata": {},
     "output_type": "execute_result"
    }
   ],
   "source": [
    "accuracy_score(y_test,y_)"
   ]
  },
  {
   "cell_type": "markdown",
   "id": "2bde0c90-758c-4efc-9844-ff6b8b490133",
   "metadata": {},
   "source": [
    "## Saving Model"
   ]
  },
  {
   "cell_type": "code",
   "execution_count": 38,
   "id": "5b8eebc1-e0ba-4e1f-a8d4-b10cc90fa955",
   "metadata": {},
   "outputs": [],
   "source": [
    "model.save('final_model.h5')"
   ]
  },
  {
   "cell_type": "markdown",
   "id": "fc0f3311-2cec-4063-a25d-1f3bc4b18d49",
   "metadata": {},
   "source": [
    "## Manual Testing"
   ]
  },
  {
   "cell_type": "markdown",
   "id": "0f33f3ec-3277-4f2a-8e8e-46b3abf39cee",
   "metadata": {},
   "source": [
    "### Load Model"
   ]
  },
  {
   "cell_type": "code",
   "execution_count": 79,
   "id": "7b3e99b4-8e79-4eb9-9c6b-e3ff37c1b9ae",
   "metadata": {},
   "outputs": [],
   "source": [
    "import keras\n",
    "loaded_model = keras.models.load_model('final_model.h5')"
   ]
  },
  {
   "cell_type": "code",
   "execution_count": 80,
   "id": "499c3c03-6181-4697-9d8b-eb59ef15c7aa",
   "metadata": {},
   "outputs": [],
   "source": [
    "def prediction(test,inp_model):\n",
    "    test_one_hot = one_hot(test,20000)\n",
    "    l = len(test_one_hot)\n",
    "    if l<25:\n",
    "        pad = 25 - l\n",
    "        a = [0 for x in range(pad)]\n",
    "        a.extend(test_one_hot)\n",
    "        test = np.array(a)\n",
    "        test = test.reshape(-1,25)\n",
    "    else:\n",
    "        test_one_hot = test_one_hot[:25]\n",
    "        test = np.array(test_one_hot)\n",
    "        test = test.reshape(-1,25)\n",
    "        \n",
    "    ans = inp_model.predict(test)\n",
    "    if ans>0.9:\n",
    "        print('SQL Injection Detected')\n",
    "    else:\n",
    "        print('Safe Inputs')"
   ]
  },
  {
   "cell_type": "code",
   "execution_count": 81,
   "id": "ae68e93f-765c-4040-99d6-0a9870e0a115",
   "metadata": {},
   "outputs": [
    {
     "name": "stdin",
     "output_type": "stream",
     "text": [
      "Enter String:  ' OR '1' = '1'--\n"
     ]
    },
    {
     "name": "stdout",
     "output_type": "stream",
     "text": [
      "1/1 [==============================] - 1s 714ms/step\n",
      "SQL Injection Detected\n"
     ]
    }
   ],
   "source": [
    "x = input('Enter String: ')\n",
    "x = prediction(x,loaded_model)"
   ]
  },
  {
   "cell_type": "code",
   "execution_count": 281,
   "id": "c365cfc8-7bc1-49d3-a406-fc2b770d7c3e",
   "metadata": {},
   "outputs": [
    {
     "data": {
      "text/plain": [
       "'Gaurav Garg'"
      ]
     },
     "execution_count": 281,
     "metadata": {},
     "output_type": "execute_result"
    }
   ],
   "source": [
    "\"' OR '1' = '1'--\"\n",
    "\"Select * From Table\"\n",
    "\"Gaurav Garg\""
   ]
  }
 ],
 "metadata": {
  "kernelspec": {
   "display_name": "nlpvenv",
   "language": "python",
   "name": "nlpvenv"
  },
  "language_info": {
   "codemirror_mode": {
    "name": "ipython",
    "version": 3
   },
   "file_extension": ".py",
   "mimetype": "text/x-python",
   "name": "python",
   "nbconvert_exporter": "python",
   "pygments_lexer": "ipython3",
   "version": "3.9.13"
  }
 },
 "nbformat": 4,
 "nbformat_minor": 5
}
