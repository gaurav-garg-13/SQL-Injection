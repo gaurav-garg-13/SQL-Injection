{
 "cells": [
  {
   "cell_type": "markdown",
   "id": "40e43535-5b14-42b0-99ac-9d425ca2c519",
   "metadata": {},
   "source": [
    "## Data Preprocessing"
   ]
  },
  {
   "cell_type": "code",
   "execution_count": 34,
   "id": "ada26827-511a-433b-a10b-081b88fe0d8b",
   "metadata": {},
   "outputs": [],
   "source": [
    "import pandas as pd"
   ]
  },
  {
   "cell_type": "code",
   "execution_count": 35,
   "id": "2def14f7-7e88-4976-bece-ae6cba80619d",
   "metadata": {},
   "outputs": [
    {
     "data": {
      "text/html": [
       "<div>\n",
       "<style scoped>\n",
       "    .dataframe tbody tr th:only-of-type {\n",
       "        vertical-align: middle;\n",
       "    }\n",
       "\n",
       "    .dataframe tbody tr th {\n",
       "        vertical-align: top;\n",
       "    }\n",
       "\n",
       "    .dataframe thead th {\n",
       "        text-align: right;\n",
       "    }\n",
       "</style>\n",
       "<table border=\"1\" class=\"dataframe\">\n",
       "  <thead>\n",
       "    <tr style=\"text-align: right;\">\n",
       "      <th></th>\n",
       "      <th>Sentence</th>\n",
       "      <th>Label</th>\n",
       "    </tr>\n",
       "  </thead>\n",
       "  <tbody>\n",
       "    <tr>\n",
       "      <th>0</th>\n",
       "      <td>\" or pg_sleep  (  __TIME__  )  --</td>\n",
       "      <td>1</td>\n",
       "    </tr>\n",
       "    <tr>\n",
       "      <th>1</th>\n",
       "      <td>create user name identified by pass123 tempora...</td>\n",
       "      <td>NaN</td>\n",
       "    </tr>\n",
       "    <tr>\n",
       "      <th>2</th>\n",
       "      <td>AND 1  =  utl_inaddr.get_host_address   (    ...</td>\n",
       "      <td>1</td>\n",
       "    </tr>\n",
       "    <tr>\n",
       "      <th>3</th>\n",
       "      <td>select * from users where id  =  '1' or @ @1 ...</td>\n",
       "      <td>1</td>\n",
       "    </tr>\n",
       "    <tr>\n",
       "      <th>4</th>\n",
       "      <td>select * from users where id  =  1 or 1#\"  ( ...</td>\n",
       "      <td>1</td>\n",
       "    </tr>\n",
       "  </tbody>\n",
       "</table>\n",
       "</div>"
      ],
      "text/plain": [
       "                                            Sentence Label\n",
       "0                  \" or pg_sleep  (  __TIME__  )  --     1\n",
       "1  create user name identified by pass123 tempora...   NaN\n",
       "2   AND 1  =  utl_inaddr.get_host_address   (    ...     1\n",
       "3   select * from users where id  =  '1' or @ @1 ...     1\n",
       "4   select * from users where id  =  1 or 1#\"  ( ...     1"
      ]
     },
     "execution_count": 35,
     "metadata": {},
     "output_type": "execute_result"
    }
   ],
   "source": [
    "data = pd.read_csv('SQLiV-3.csv',encoding='utf-8')\n",
    "data.iloc[:,0:2].head()"
   ]
  },
  {
   "cell_type": "code",
   "execution_count": 36,
   "id": "12f31061-77a4-43df-b5d9-c4fbbfd0afe0",
   "metadata": {},
   "outputs": [
    {
     "data": {
      "text/plain": [
       "30919"
      ]
     },
     "execution_count": 36,
     "metadata": {},
     "output_type": "execute_result"
    }
   ],
   "source": [
    "len(data)"
   ]
  },
  {
   "cell_type": "code",
   "execution_count": 37,
   "id": "6f5f0ee7-6284-4aef-9f28-f10e800506d0",
   "metadata": {},
   "outputs": [],
   "source": [
    "data = data.dropna(subset = ['Sentence','Label'])"
   ]
  },
  {
   "cell_type": "code",
   "execution_count": 38,
   "id": "bc0e20d3-92de-4a5f-8821-69ed28748546",
   "metadata": {},
   "outputs": [],
   "source": [
    "data = data.reset_index()"
   ]
  },
  {
   "cell_type": "code",
   "execution_count": 39,
   "id": "708b330a-2dc9-4292-80c5-a895bfaf28f9",
   "metadata": {},
   "outputs": [
    {
     "data": {
      "text/plain": [
       "30649"
      ]
     },
     "execution_count": 39,
     "metadata": {},
     "output_type": "execute_result"
    }
   ],
   "source": [
    "len(data)"
   ]
  },
  {
   "cell_type": "code",
   "execution_count": 40,
   "id": "66479645-1019-499a-b82d-08cf9a63fc3f",
   "metadata": {},
   "outputs": [
    {
     "data": {
      "text/plain": [
       "array(['1', 'SELECT *', ' --', ' desc users', ' OR',\n",
       "       \"waitfor delay '0:0:__TIME__'--\", ' drop table temp --', '0',\n",
       "       ' grant resource to name', ' EXEC SelectAllCustomers',\n",
       "       ' /*Select all the columns of all the records in the Customers table:*/',\n",
       "       '*/', ' CREATE VIEW [Products Above Average Price] AS',\n",
       "       ' CREATE OR REPLACE VIEW view_name AS', ' DROP TABLE Suppliers',\n",
       "       ' CREATE PROCEDURE SelectAllCustomers AS',\n",
       "       '  EXEC SelectAllCustomers',\n",
       "       \" DELETE FROM Customers  WHERE CustomerName = 'Alfreds Futterkiste'\",\n",
       "       ' CREATE OR REPLACE VIEW [Brazil Customers] AS',\n",
       "       '  SELECT * FROM CustomersLIMIT 3', 'SELECT * FROM Customers',\n",
       "       ' SELECT TOP 50 PERCENT * FROM Customers',\n",
       "       ' SELECT * FROM CustomersFETCH FIRST 50 PERCENT ROWS ONLY',\n",
       "       'SELECT TOP 3 * FROM Customers', ' SELECT * FROM Customers',\n",
       "       'SELECT SUM ( Quantity ) ', ' SELECT column_name ( s ) ',\n",
       "       ' SELECT City FROM Customers'], dtype=object)"
      ]
     },
     "execution_count": 40,
     "metadata": {},
     "output_type": "execute_result"
    }
   ],
   "source": [
    "data['Label'].unique()"
   ]
  },
  {
   "cell_type": "code",
   "execution_count": 41,
   "id": "6fe7645e-a07c-4aa3-a7aa-c2c91b02a2b2",
   "metadata": {},
   "outputs": [],
   "source": [
    "Labels = [1 for x in range(len(data['Label']))]\n",
    "for i in range(len(data['Label'])):\n",
    "    try:\n",
    "        Labels[i] = int(data['Label'][i])\n",
    "    except:\n",
    "        pass"
   ]
  },
  {
   "cell_type": "code",
   "execution_count": 42,
   "id": "b0830cf7-32fc-4496-a137-b5adad85e602",
   "metadata": {},
   "outputs": [],
   "source": [
    "X = data['Sentence']\n",
    "y = Labels"
   ]
  },
  {
   "cell_type": "code",
   "execution_count": 43,
   "id": "f2a9b3b1-c842-4fed-948b-077387d1ba3a",
   "metadata": {},
   "outputs": [
    {
     "name": "stdout",
     "output_type": "stream",
     "text": [
      "30648\r"
     ]
    }
   ],
   "source": [
    "corpus = []\n",
    "for i in range(0, len(X)):\n",
    "    print(i,end = '\\r')\n",
    "    query = str(X[i])\n",
    "    query = query.lower()\n",
    "    corpus.append(query)"
   ]
  },
  {
   "cell_type": "markdown",
   "id": "f35e298d-5632-4561-ba8a-1ee3fe77866d",
   "metadata": {},
   "source": [
    "## Model Creation"
   ]
  },
  {
   "cell_type": "code",
   "execution_count": 44,
   "id": "c4d47631-157f-4ed7-a39d-79b67949a388",
   "metadata": {},
   "outputs": [],
   "source": [
    "import tensorflow as tf\n",
    "from tensorflow.keras.layers import Embedding\n",
    "from tensorflow.keras.preprocessing.sequence import pad_sequences\n",
    "from tensorflow.keras.models import Sequential\n",
    "from tensorflow.keras.preprocessing.text import one_hot\n",
    "from tensorflow.keras.layers import LSTM\n",
    "from tensorflow.keras.layers import Dense\n",
    "from tensorflow.keras.layers import Dropout\n",
    "import numpy as np\n",
    "from sklearn.model_selection import train_test_split"
   ]
  },
  {
   "cell_type": "code",
   "execution_count": 45,
   "id": "fd0b97f9-6c69-4ef0-b140-84c1cae99d9a",
   "metadata": {},
   "outputs": [],
   "source": [
    "def create_model(embedding_vector_features, sent_length):\n",
    "    model=Sequential()\n",
    "    model.add(Embedding(voc_size,embedding_vector_features,input_length=sent_length))\n",
    "    model.add(Dropout(0.5))\n",
    "    model.add(LSTM(100,return_sequences = True))\n",
    "    model.add(Dropout(0.5))\n",
    "    model.add(LSTM(256))\n",
    "    model.add(Dropout(0.5))\n",
    "    model.add(Dense(1,activation='sigmoid'))\n",
    "    model.compile(loss='binary_crossentropy',optimizer='adam',metrics=['accuracy'])\n",
    "    return model"
   ]
  },
  {
   "cell_type": "markdown",
   "id": "e5d08048-30f2-442b-9f1a-e57afb86ea53",
   "metadata": {},
   "source": [
    "## Feature Extraction"
   ]
  },
  {
   "cell_type": "code",
   "execution_count": 46,
   "id": "c5b0fd66-2c9c-4d68-bd8a-2b760f296233",
   "metadata": {},
   "outputs": [],
   "source": [
    "voc_size = 20000\n",
    "embedding_vector_features=64"
   ]
  },
  {
   "cell_type": "code",
   "execution_count": 47,
   "id": "c13acd75-b227-4426-9840-91f974b04d3a",
   "metadata": {},
   "outputs": [],
   "source": [
    "onehot_repr=[one_hot(word,voc_size)for word in corpus]"
   ]
  },
  {
   "cell_type": "code",
   "execution_count": 48,
   "id": "db67680e-64e0-4366-852a-a902ab80908e",
   "metadata": {},
   "outputs": [
    {
     "name": "stdout",
     "output_type": "stream",
     "text": [
      "[[    0     0     0 ...  5037   339 15544]\n",
      " [ 4403 18140 17457 ...   959 17653  4432]\n",
      " [    0     0     0 ...  7316 12095 16816]\n",
      " ...\n",
      " [    0     0     0 ...  9829 14802 16646]\n",
      " [    0     0     0 ...  1810 14802  3842]\n",
      " [    0     0     0 ...  8817 14802   476]]\n"
     ]
    }
   ],
   "source": [
    "sent_length=25\n",
    "embedded_docs=pad_sequences(onehot_repr,padding='pre',maxlen=sent_length)\n",
    "print(embedded_docs)"
   ]
  },
  {
   "cell_type": "code",
   "execution_count": 49,
   "id": "43eb124c-3c70-44d6-af80-2832c5e18b98",
   "metadata": {},
   "outputs": [
    {
     "data": {
      "text/plain": [
       "30649"
      ]
     },
     "execution_count": 49,
     "metadata": {},
     "output_type": "execute_result"
    }
   ],
   "source": [
    "len(embedded_docs)"
   ]
  },
  {
   "cell_type": "code",
   "execution_count": 50,
   "id": "8ed404e2-79eb-4905-a3c7-092fbbe97619",
   "metadata": {},
   "outputs": [],
   "source": [
    "X_final=np.array(embedded_docs)\n",
    "y_final=np.array(y)"
   ]
  },
  {
   "cell_type": "code",
   "execution_count": 51,
   "id": "988583b6-3c48-4308-8656-e080ef28c0d1",
   "metadata": {},
   "outputs": [
    {
     "data": {
      "text/plain": [
       "((30649, 25), (30649,))"
      ]
     },
     "execution_count": 51,
     "metadata": {},
     "output_type": "execute_result"
    }
   ],
   "source": [
    "X_final.shape,y_final.shape"
   ]
  },
  {
   "cell_type": "markdown",
   "id": "9fc38eae-2ee5-44ba-b325-ae79f99980c3",
   "metadata": {},
   "source": [
    "## Spiltting data"
   ]
  },
  {
   "cell_type": "code",
   "execution_count": 52,
   "id": "ab022356-efa8-4a23-90f3-ce9e67394e65",
   "metadata": {},
   "outputs": [],
   "source": [
    "X_train, X_test, y_train, y_test = train_test_split(X_final, y_final, test_size=0.25, random_state=42)"
   ]
  },
  {
   "cell_type": "code",
   "execution_count": 53,
   "id": "af4e66d2-0c75-49d5-aff0-3b2514c8547a",
   "metadata": {},
   "outputs": [],
   "source": [
    "X_train,X_val,y_train,y_val = train_test_split(X_train, y_train, test_size=0.2, random_state=42)"
   ]
  },
  {
   "cell_type": "code",
   "execution_count": 54,
   "id": "6da7cc0b-516f-47a7-9b02-58db5830ec9d",
   "metadata": {},
   "outputs": [],
   "source": [
    "model = create_model(embedding_vector_features, sent_length)"
   ]
  },
  {
   "cell_type": "code",
   "execution_count": 55,
   "id": "7b2f9c3c-3634-46f9-821f-4c7d9dd05893",
   "metadata": {},
   "outputs": [
    {
     "name": "stdout",
     "output_type": "stream",
     "text": [
      "Model: \"sequential_1\"\n",
      "_________________________________________________________________\n",
      " Layer (type)                Output Shape              Param #   \n",
      "=================================================================\n",
      " embedding_1 (Embedding)     (None, 25, 64)            1280000   \n",
      "                                                                 \n",
      " dropout_3 (Dropout)         (None, 25, 64)            0         \n",
      "                                                                 \n",
      " lstm_2 (LSTM)               (None, 25, 100)           66000     \n",
      "                                                                 \n",
      " dropout_4 (Dropout)         (None, 25, 100)           0         \n",
      "                                                                 \n",
      " lstm_3 (LSTM)               (None, 256)               365568    \n",
      "                                                                 \n",
      " dropout_5 (Dropout)         (None, 256)               0         \n",
      "                                                                 \n",
      " dense_1 (Dense)             (None, 1)                 257       \n",
      "                                                                 \n",
      "=================================================================\n",
      "Total params: 1,711,825\n",
      "Trainable params: 1,711,825\n",
      "Non-trainable params: 0\n",
      "_________________________________________________________________\n"
     ]
    }
   ],
   "source": [
    "model.summary()"
   ]
  },
  {
   "cell_type": "markdown",
   "id": "a413b53f-7e89-4453-be29-4d73c83fea0e",
   "metadata": {},
   "source": [
    "## Training"
   ]
  },
  {
   "cell_type": "code",
   "execution_count": 56,
   "id": "d309ce1d-ebb5-4cf1-9180-29a2866c1eaa",
   "metadata": {},
   "outputs": [
    {
     "name": "stdout",
     "output_type": "stream",
     "text": [
      "Epoch 1/10\n",
      "19/19 [==============================] - 6s 117ms/step - loss: 0.5473 - accuracy: 0.7259 - val_loss: 0.3807 - val_accuracy: 0.8249\n",
      "Epoch 2/10\n",
      "19/19 [==============================] - 1s 59ms/step - loss: 0.2382 - accuracy: 0.9108 - val_loss: 0.1105 - val_accuracy: 0.9730\n",
      "Epoch 3/10\n",
      "19/19 [==============================] - 1s 59ms/step - loss: 0.0750 - accuracy: 0.9796 - val_loss: 0.0612 - val_accuracy: 0.9848\n",
      "Epoch 4/10\n",
      "19/19 [==============================] - 1s 59ms/step - loss: 0.0443 - accuracy: 0.9893 - val_loss: 0.0477 - val_accuracy: 0.9863\n",
      "Epoch 5/10\n",
      "19/19 [==============================] - 1s 59ms/step - loss: 0.0350 - accuracy: 0.9918 - val_loss: 0.0447 - val_accuracy: 0.9898\n",
      "Epoch 6/10\n",
      "19/19 [==============================] - 1s 59ms/step - loss: 0.0305 - accuracy: 0.9934 - val_loss: 0.0453 - val_accuracy: 0.9902\n",
      "Epoch 7/10\n",
      "19/19 [==============================] - 1s 59ms/step - loss: 0.0293 - accuracy: 0.9939 - val_loss: 0.0433 - val_accuracy: 0.9898\n",
      "Epoch 8/10\n",
      "19/19 [==============================] - 1s 59ms/step - loss: 0.0269 - accuracy: 0.9941 - val_loss: 0.0442 - val_accuracy: 0.9902\n",
      "Epoch 9/10\n",
      "19/19 [==============================] - 1s 60ms/step - loss: 0.0244 - accuracy: 0.9946 - val_loss: 0.0443 - val_accuracy: 0.9893\n",
      "Epoch 10/10\n",
      "19/19 [==============================] - 1s 59ms/step - loss: 0.0245 - accuracy: 0.9945 - val_loss: 0.0480 - val_accuracy: 0.9885\n"
     ]
    },
    {
     "data": {
      "text/plain": [
       "<keras.callbacks.History at 0x22172a1ae20>"
      ]
     },
     "execution_count": 56,
     "metadata": {},
     "output_type": "execute_result"
    }
   ],
   "source": [
    "model.fit(X_train,y_train,validation_data=(X_val,y_val),epochs=10,batch_size=1000)"
   ]
  },
  {
   "cell_type": "markdown",
   "id": "55be6572-b096-40ab-8407-3cbdd4679f87",
   "metadata": {},
   "source": [
    "## Performance Testing"
   ]
  },
  {
   "cell_type": "code",
   "execution_count": 67,
   "id": "aa22981e-5e44-4f0a-adee-86aea917b9f0",
   "metadata": {},
   "outputs": [],
   "source": [
    "from sklearn.metrics import confusion_matrix\n",
    "from sklearn.metrics import ConfusionMatrixDisplay\n",
    "import matplotlib.pyplot as plt\n",
    "from sklearn.metrics import accuracy_score\n",
    "from sklearn.metrics import roc_curve, roc_auc_score"
   ]
  },
  {
   "cell_type": "code",
   "execution_count": 68,
   "id": "1258b176-48b2-41ae-bdbd-63dfa34a2994",
   "metadata": {},
   "outputs": [
    {
     "name": "stdout",
     "output_type": "stream",
     "text": [
      "240/240 [==============================] - 2s 6ms/step\n"
     ]
    }
   ],
   "source": [
    "y_pred=model.predict(X_test)"
   ]
  },
  {
   "cell_type": "markdown",
   "id": "9cafbedb-6ac6-42ad-ae79-6ccc25c629ba",
   "metadata": {
    "tags": []
   },
   "source": [
    "### ROC Curve"
   ]
  },
  {
   "cell_type": "code",
   "execution_count": 69,
   "id": "61666427-7e46-4e7e-9db2-80cadb872d0f",
   "metadata": {},
   "outputs": [],
   "source": [
    "false_positive_rate, true_positive_rate, threshold = roc_curve(y_test, y_pred)"
   ]
  },
  {
   "cell_type": "code",
   "execution_count": 70,
   "id": "68b75998-8364-44a0-80a3-ee7eeb6d617b",
   "metadata": {},
   "outputs": [
    {
     "data": {
      "image/png": "[encoded data removed]",
      "text/plain": [
       "<Figure size 500x500 with 1 Axes>"
      ]
     },
     "metadata": {},
     "output_type": "display_data"
    }
   ],
   "source": [
    "plt.subplots(1, figsize=(5,5))\n",
    "plt.title('Receiver Operating Characteristic')\n",
    "plt.plot(false_positive_rate, true_positive_rate)\n",
    "plt.plot([0, 1], ls=\"--\")\n",
    "plt.plot([0, 0], [1, 0] , c=\".7\"), plt.plot([1, 1] , c=\".7\")\n",
    "plt.ylabel('True Positive Rate')\n",
    "plt.xlabel('False Positive Rate')\n",
    "plt.show()"
   ]
  },
  {
   "cell_type": "code",
   "execution_count": 71,
   "id": "1d9f6962-f29a-4f9f-bab1-f88dabd276f1",
   "metadata": {},
   "outputs": [
    {
     "name": "stdout",
     "output_type": "stream",
     "text": [
      "roc_auc_score:  0.9939123643897649\n"
     ]
    }
   ],
   "source": [
    "print('roc_auc_score: ', roc_auc_score(y_test, y_pred))"
   ]
  },
  {
   "cell_type": "markdown",
   "id": "8e267c34-ca4f-432d-bd9d-f5ec086b4ea6",
   "metadata": {},
   "source": [
    "### Predicting Values"
   ]
  },
  {
   "cell_type": "code",
   "execution_count": 72,
   "id": "93dee64b-1258-4238-bca8-8131d27d03e7",
   "metadata": {},
   "outputs": [],
   "source": [
    "y_ = [1 if x>0.9 else 0 for x in y_pred]"
   ]
  },
  {
   "cell_type": "markdown",
   "id": "5ffe03e2-b3e2-49e5-a9e0-7c33f8a2da60",
   "metadata": {},
   "source": [
    "### Confusion Matrix"
   ]
  },
  {
   "cell_type": "code",
   "execution_count": 73,
   "id": "b5bb5261-fa1f-4b96-a0f1-2f5f45845d96",
   "metadata": {},
   "outputs": [
    {
     "data": {
      "text/plain": [
       "array([[4800,    8],\n",
       "       [  87, 2768]], dtype=int64)"
      ]
     },
     "execution_count": 73,
     "metadata": {},
     "output_type": "execute_result"
    }
   ],
   "source": [
    "cm = confusion_matrix(y_test,y_)\n",
    "cm"
   ]
  },
  {
   "cell_type": "code",
   "execution_count": 74,
   "id": "9c66ee0c-c967-4eb4-8452-66439aa86824",
   "metadata": {
    "tags": []
   },
   "outputs": [
    {
     "data": {
      "image/png": "[encoded data removed]",
      "text/plain": [
       "<Figure size 640x480 with 2 Axes>"
      ]
     },
     "metadata": {},
     "output_type": "display_data"
    }
   ],
   "source": [
    "cm_display = ConfusionMatrixDisplay(confusion_matrix = cm, display_labels = [False, True])\n",
    "cm_display.plot()\n",
    "plt.show()"
   ]
  },
  {
   "cell_type": "code",
   "execution_count": 77,
   "id": "40c1d362-b0a0-45c4-a5f0-0a47b235cbed",
   "metadata": {},
   "outputs": [
    {
     "data": {
      "text/plain": [
       "0.9876027665405194"
      ]
     },
     "execution_count": 77,
     "metadata": {},
     "output_type": "execute_result"
    }
   ],
   "source": [
    "accuracy_score(y_test,y_)"
   ]
  },
  {
   "cell_type": "markdown",
   "id": "2bde0c90-758c-4efc-9844-ff6b8b490133",
   "metadata": {},
   "source": [
    "## Saving Model"
   ]
  },
  {
   "cell_type": "code",
   "execution_count": 78,
   "id": "5b8eebc1-e0ba-4e1f-a8d4-b10cc90fa955",
   "metadata": {},
   "outputs": [],
   "source": [
    "model.save('final_model.h5')"
   ]
  },
  {
   "cell_type": "markdown",
   "id": "fc0f3311-2cec-4063-a25d-1f3bc4b18d49",
   "metadata": {},
   "source": [
    "## Manual Testing"
   ]
  },
  {
   "cell_type": "markdown",
   "id": "0f33f3ec-3277-4f2a-8e8e-46b3abf39cee",
   "metadata": {},
   "source": [
    "### Load Model"
   ]
  },
  {
   "cell_type": "code",
   "execution_count": 79,
   "id": "7b3e99b4-8e79-4eb9-9c6b-e3ff37c1b9ae",
   "metadata": {},
   "outputs": [],
   "source": [
    "import keras\n",
    "loaded_model = keras.models.load_model('final_model.h5')"
   ]
  },
  {
   "cell_type": "code",
   "execution_count": 80,
   "id": "499c3c03-6181-4697-9d8b-eb59ef15c7aa",
   "metadata": {},
   "outputs": [],
   "source": [
    "def prediction(test,inp_model):\n",
    "    test_one_hot = one_hot(test,20000)\n",
    "    l = len(test_one_hot)\n",
    "    if l<25:\n",
    "        pad = 25 - l\n",
    "        a = [0 for x in range(pad)]\n",
    "        a.extend(test_one_hot)\n",
    "        test = np.array(a)\n",
    "        test = test.reshape(-1,25)\n",
    "    else:\n",
    "        test_one_hot = test_one_hot[:25]\n",
    "        test = np.array(test_one_hot)\n",
    "        test = test.reshape(-1,25)\n",
    "        \n",
    "    ans = inp_model.predict(test)\n",
    "    if ans>0.9:\n",
    "        print('SQL Injection Detected')\n",
    "    else:\n",
    "        print('Safe Inputs')"
   ]
  },
  {
   "cell_type": "code",
   "execution_count": 81,
   "id": "ae68e93f-765c-4040-99d6-0a9870e0a115",
   "metadata": {},
   "outputs": [
    {
     "name": "stdin",
     "output_type": "stream",
     "text": [
      "Enter String:  ' OR '1' = '1'--\n"
     ]
    },
    {
     "name": "stdout",
     "output_type": "stream",
     "text": [
      "1/1 [==============================] - 1s 714ms/step\n",
      "SQL Injection Detected\n"
     ]
    }
   ],
   "source": [
    "x = input('Enter String: ')\n",
    "x = prediction(x,loaded_model)"
   ]
  },
  {
   "cell_type": "code",
   "execution_count": 281,
   "id": "c365cfc8-7bc1-49d3-a406-fc2b770d7c3e",
   "metadata": {},
   "outputs": [
    {
     "data": {
      "text/plain": [
       "'Gaurav Garg'"
      ]
     },
     "execution_count": 281,
     "metadata": {},
     "output_type": "execute_result"
    }
   ],
   "source": [
    "\"' OR '1' = '1'--\"\n",
    "\"Select * From Table\"\n",
    "\"Gaurav Garg\""
   ]
  }
 ],
 "metadata": {
  "kernelspec": {
   "display_name": "nlpvenv",
   "language": "python",
   "name": "nlpvenv"
  },
  "language_info": {
   "codemirror_mode": {
    "name": "ipython",
    "version": 3
   },
   "file_extension": ".py",
   "mimetype": "text/x-python",
   "name": "python",
   "nbconvert_exporter": "python",
   "pygments_lexer": "ipython3",
   "version": "3.9.13"
  }
 },
 "nbformat": 4,
 "nbformat_minor": 5
}
