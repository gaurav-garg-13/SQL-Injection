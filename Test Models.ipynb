{
 "cells": [
  {
   "cell_type": "markdown",
   "id": "4ec22c82-f5ae-42a9-8c2b-88f258db1c4d",
   "metadata": {},
   "source": [
    "## Data Preprocessing"
   ]
  },
  {
   "cell_type": "code",
   "execution_count": 19,
   "id": "1bf32be7-20eb-47f5-9c9d-1a552201fd99",
   "metadata": {},
   "outputs": [],
   "source": [
    "import pandas as pd\n",
    "import nltk\n",
    "import matplotlib.pyplot as plt"
   ]
  },
  {
   "cell_type": "code",
   "execution_count": 3,
   "id": "f0f9b422-5966-484d-86f0-055863082f14",
   "metadata": {},
   "outputs": [
    {
     "data": {
      "text/html": [
       "<div>\n",
       "<style scoped>\n",
       "    .dataframe tbody tr th:only-of-type {\n",
       "        vertical-align: middle;\n",
       "    }\n",
       "\n",
       "    .dataframe tbody tr th {\n",
       "        vertical-align: top;\n",
       "    }\n",
       "\n",
       "    .dataframe thead th {\n",
       "        text-align: right;\n",
       "    }\n",
       "</style>\n",
       "<table border=\"1\" class=\"dataframe\">\n",
       "  <thead>\n",
       "    <tr style=\"text-align: right;\">\n",
       "      <th></th>\n",
       "      <th>Sentence</th>\n",
       "      <th>Label</th>\n",
       "      <th>Unnamed: 2</th>\n",
       "      <th>Unnamed: 3</th>\n",
       "    </tr>\n",
       "  </thead>\n",
       "  <tbody>\n",
       "    <tr>\n",
       "      <th>0</th>\n",
       "      <td>\" or pg_sleep  (  __TIME__  )  --</td>\n",
       "      <td>1</td>\n",
       "      <td>NaN</td>\n",
       "      <td>NaN</td>\n",
       "    </tr>\n",
       "    <tr>\n",
       "      <th>1</th>\n",
       "      <td>create user name identified by pass123 tempora...</td>\n",
       "      <td>NaN</td>\n",
       "      <td>1</td>\n",
       "      <td>NaN</td>\n",
       "    </tr>\n",
       "    <tr>\n",
       "      <th>2</th>\n",
       "      <td>AND 1  =  utl_inaddr.get_host_address   (    ...</td>\n",
       "      <td>1</td>\n",
       "      <td>NaN</td>\n",
       "      <td>NaN</td>\n",
       "    </tr>\n",
       "    <tr>\n",
       "      <th>3</th>\n",
       "      <td>select * from users where id  =  '1' or @ @1 ...</td>\n",
       "      <td>1</td>\n",
       "      <td>NaN</td>\n",
       "      <td>NaN</td>\n",
       "    </tr>\n",
       "    <tr>\n",
       "      <th>4</th>\n",
       "      <td>select * from users where id  =  1 or 1#\"  ( ...</td>\n",
       "      <td>1</td>\n",
       "      <td>NaN</td>\n",
       "      <td>NaN</td>\n",
       "    </tr>\n",
       "  </tbody>\n",
       "</table>\n",
       "</div>"
      ],
      "text/plain": [
       "                                            Sentence Label Unnamed: 2  \\\n",
       "0                  \" or pg_sleep  (  __TIME__  )  --     1        NaN   \n",
       "1  create user name identified by pass123 tempora...   NaN          1   \n",
       "2   AND 1  =  utl_inaddr.get_host_address   (    ...     1        NaN   \n",
       "3   select * from users where id  =  '1' or @ @1 ...     1        NaN   \n",
       "4   select * from users where id  =  1 or 1#\"  ( ...     1        NaN   \n",
       "\n",
       "   Unnamed: 3  \n",
       "0         NaN  \n",
       "1         NaN  \n",
       "2         NaN  \n",
       "3         NaN  \n",
       "4         NaN  "
      ]
     },
     "execution_count": 3,
     "metadata": {},
     "output_type": "execute_result"
    }
   ],
   "source": [
    "data = pd.read_csv('SQLiV-3.csv',encoding='utf-8')\n",
    "data.head()"
   ]
  },
  {
   "cell_type": "code",
   "execution_count": 4,
   "id": "a49412de-24d5-4d4d-95f1-f7bf18dbfb1a",
   "metadata": {},
   "outputs": [
    {
     "data": {
      "text/plain": [
       "30919"
      ]
     },
     "execution_count": 4,
     "metadata": {},
     "output_type": "execute_result"
    }
   ],
   "source": [
    "len(data)"
   ]
  },
  {
   "cell_type": "code",
   "execution_count": 5,
   "id": "f29f69e2-475d-4a48-a1cf-f4d465ca6bfb",
   "metadata": {},
   "outputs": [],
   "source": [
    "data = data.dropna(subset = ['Sentence','Label'])"
   ]
  },
  {
   "cell_type": "code",
   "execution_count": 6,
   "id": "78d90118-a387-4beb-9c4c-8149d407f119",
   "metadata": {},
   "outputs": [],
   "source": [
    "data = data.reset_index()"
   ]
  },
  {
   "cell_type": "code",
   "execution_count": 7,
   "id": "5adf78ea-b965-437b-b04c-c44d4801d603",
   "metadata": {},
   "outputs": [
    {
     "data": {
      "text/plain": [
       "30649"
      ]
     },
     "execution_count": 7,
     "metadata": {},
     "output_type": "execute_result"
    }
   ],
   "source": [
    "len(data)"
   ]
  },
  {
   "cell_type": "code",
   "execution_count": 8,
   "id": "3fcf69fb-2a76-4bac-ade8-7383f909384d",
   "metadata": {},
   "outputs": [],
   "source": [
    "Labels = [1 for x in range(len(data['Label']))]\n",
    "for i in range(len(data['Label'])):\n",
    "    try:\n",
    "        Labels[i] = int(data['Label'][i])\n",
    "    except:\n",
    "        pass"
   ]
  },
  {
   "cell_type": "code",
   "execution_count": 9,
   "id": "e6263044-12e4-402d-b6d2-8098800cf1d1",
   "metadata": {},
   "outputs": [],
   "source": [
    "X = data['Sentence']\n",
    "y = Labels"
   ]
  },
  {
   "cell_type": "code",
   "execution_count": 10,
   "id": "424b50d2-29f3-446a-a10e-278b927f24e2",
   "metadata": {},
   "outputs": [
    {
     "name": "stdout",
     "output_type": "stream",
     "text": [
      "30648\r"
     ]
    }
   ],
   "source": [
    "corpus = []\n",
    "for i in range(0, len(X)):\n",
    "    print(i,end = '\\r')\n",
    "    query = str(X[i])\n",
    "    query = query.lower()\n",
    "    corpus.append(query)"
   ]
  },
  {
   "cell_type": "markdown",
   "id": "981f611f-e223-471c-956b-262d391f463b",
   "metadata": {},
   "source": [
    "## Feature Extraction"
   ]
  },
  {
   "cell_type": "code",
   "execution_count": 11,
   "id": "6094e7b5-c615-4062-8230-38dd52015ac8",
   "metadata": {},
   "outputs": [],
   "source": [
    "from sklearn.feature_extraction.text import CountVectorizer\n",
    "from sklearn.feature_extraction.text import TfidfVectorizer"
   ]
  },
  {
   "cell_type": "code",
   "execution_count": 51,
   "id": "03c42b26-d678-46ba-af28-85c71a5ea44b",
   "metadata": {},
   "outputs": [],
   "source": [
    "cv = CountVectorizer(max_features = 50)\n",
    "tfidf = TfidfVectorizer(max_features = 50)"
   ]
  },
  {
   "cell_type": "code",
   "execution_count": 52,
   "id": "ef862913-d7e3-48e5-a59c-b9cbd14f1461",
   "metadata": {},
   "outputs": [],
   "source": [
    "X_cv = cv.fit_transform(corpus).toarray()\n",
    "X_tfidf = tfidf.fit_transform(corpus).toarray()"
   ]
  },
  {
   "cell_type": "code",
   "execution_count": 53,
   "id": "c766cc96-2787-43ac-a067-75436cbd96fa",
   "metadata": {},
   "outputs": [
    {
     "data": {
      "text/plain": [
       "((30649, 50), (30649, 50))"
      ]
     },
     "execution_count": 53,
     "metadata": {},
     "output_type": "execute_result"
    }
   ],
   "source": [
    "X_cv.shape, X_tfidf.shape"
   ]
  },
  {
   "cell_type": "markdown",
   "id": "5f9be593-712d-4dbc-80a1-66d69b1fe016",
   "metadata": {},
   "source": [
    "## Model Creation"
   ]
  },
  {
   "cell_type": "code",
   "execution_count": 54,
   "id": "a3c43613-01df-4fb4-b61a-bf776b0edbce",
   "metadata": {},
   "outputs": [],
   "source": [
    "from sklearn.model_selection import train_test_split\n",
    "from sklearn.naive_bayes import MultinomialNB\n",
    "from sklearn.metrics import confusion_matrix\n",
    "from sklearn.metrics import accuracy_score"
   ]
  },
  {
   "cell_type": "code",
   "execution_count": 55,
   "id": "bbbf9b78-35e1-42af-9fd4-baa99760a1e3",
   "metadata": {},
   "outputs": [],
   "source": [
    "def assembled(X,y):\n",
    "    X_train,X_test,y_train,y_test = train_test_split(X,y,test_size = 0.25,random_state = 0)\n",
    "    model = MultinomialNB().fit(X_train, y_train)\n",
    "    y_pred = model.predict(X_test)\n",
    "    confusion_m = confusion_matrix(y_test,y_pred)\n",
    "    print(confusion_matrix(y_test,y_pred))\n",
    "    precision = round(confusion_m[0][0]/sum(confusion_m[0]),3)\n",
    "    print('Precision: ', precision)\n",
    "    recall = round(confusion_m[0][0]/(confusion_m[0][0]+confusion_m[1][0]),3)\n",
    "    print('Recall: ', recall)\n",
    "    accuracy = round(accuracy_score(y_test,y_pred),3)\n",
    "    print('Accuracy: ', accuracy)\n",
    "    \n",
    "    return (precision,recall,accuracy)"
   ]
  },
  {
   "cell_type": "code",
   "execution_count": 56,
   "id": "630bfa91-eba1-4ca6-8b89-1b5711b8bbc0",
   "metadata": {},
   "outputs": [],
   "source": [
    "X = [X_cv,X_tfidf]\n",
    "title = ['Count Vectorizer','TF-IDF']\n",
    "Y = []"
   ]
  },
  {
   "cell_type": "markdown",
   "id": "42b49148-c000-4023-bd4c-e3c7d6c56808",
   "metadata": {},
   "source": [
    "## Performance Testing"
   ]
  },
  {
   "cell_type": "code",
   "execution_count": 57,
   "id": "83ef08d0-a5c7-49c0-8d1b-32b50847532f",
   "metadata": {},
   "outputs": [
    {
     "name": "stdout",
     "output_type": "stream",
     "text": [
      "Count Vectorizer\n",
      "[[4800   30]\n",
      " [ 657 2176]]\n",
      "Precision:  0.994\n",
      "Recall:  0.88\n",
      "Accuracy:  0.91\n",
      "\n",
      "\n",
      "\n",
      "TF-IDF\n",
      "[[4744   86]\n",
      " [ 494 2339]]\n",
      "Precision:  0.982\n",
      "Recall:  0.906\n",
      "Accuracy:  0.924\n",
      "\n",
      "\n",
      "\n"
     ]
    }
   ],
   "source": [
    "for i in range(len(X)):\n",
    "    print(title[i])\n",
    "    temp = assembled(X[i],y)\n",
    "    Y.append(temp)\n",
    "    print('\\n\\n')"
   ]
  },
  {
   "cell_type": "code",
   "execution_count": null,
   "id": "4c54e1a5-7f0f-48f3-9784-8fe60e9f438c",
   "metadata": {},
   "outputs": [],
   "source": []
  }
 ],
 "metadata": {
  "kernelspec": {
   "display_name": "nlpvenv",
   "language": "python",
   "name": "nlpvenv"
  },
  "language_info": {
   "codemirror_mode": {
    "name": "ipython",
    "version": 3
   },
   "file_extension": ".py",
   "mimetype": "text/x-python",
   "name": "python",
   "nbconvert_exporter": "python",
   "pygments_lexer": "ipython3",
   "version": "3.9.13"
  }
 },
 "nbformat": 4,
 "nbformat_minor": 5
}
